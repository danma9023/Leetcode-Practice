{
 "cells": [
  {
   "cell_type": "markdown",
   "metadata": {},
   "source": [
    "## Merge Intervals"
   ]
  },
  {
   "cell_type": "markdown",
   "metadata": {},
   "source": [
    "Given a collection of intervals, merge all overlapping intervals.\n",
    "\n",
    "Example 1:\n",
    "\n",
    "Input: [[1,3], [2,6], [8,10], [15,18]]\n",
    "Output: [[1,6], [8,10], [15,18]]\n",
    "Explanation: Since intervals [1,3] and [2,6] overlaps, merge them into [1,6].\n",
    "Example 2:\n",
    "\n",
    "Input: [[1,4], [4,5]]\n",
    "Output: [[1,5]]\n",
    "Explanation: Intervals [1,4] and [4,5] are considered overlapping."
   ]
  },
  {
   "cell_type": "markdown",
   "metadata": {},
   "source": [
    "##### Code: "
   ]
  },
  {
   "cell_type": "code",
   "execution_count": 27,
   "metadata": {},
   "outputs": [
    {
     "name": "stdout",
     "output_type": "stream",
     "text": [
      "1\n",
      "5\n",
      "[[1, 3], [4, 6], [8, 18]]\n"
     ]
    }
   ],
   "source": [
    "class Interval(object):\n",
    "    def __init__(self, s=0, e=0):\n",
    "        self.start=s\n",
    "        self.end=e\n",
    "x=Interval(1,5)\n",
    "print(x.start)\n",
    "print(x.end)\n",
    "#here we define a initializaion function, where first number in a interval is the start and last number is the end\n",
    "\n",
    "class Solution(object):\n",
    "    def merge(self, intervals):\n",
    "        merged_ins=[]\n",
    "        for interval in sorted(intervals, key=lambda x:x.start):\n",
    "        #The syntax of lambda is the word lambda followed by the list of parameter names then a single block of code. \n",
    "        #The parameter list and code block are delineated by colon\n",
    "        #i.e. adder_lambda = lambda parameter1,parameter2: parameter1+parameter2\n",
    "        #def adder_regular(parameter1, parameter2): return parameter1+parameter2\n",
    "            if not merged_ins or interval.start > merged_ins[-1].end: \n",
    "                   merged_ins.append(interval)\n",
    "            else: merged_ins[-1].end = max(interval.end, merged_ins[-1].end)\n",
    "        return merged_ins\n",
    "    \n",
    "s=Solution()\n",
    "intv=[Interval(1, 3), Interval(4, 6), Interval(8, 10), Interval(9, 18)]\n",
    "print ([[int.start, int.end] for int in s.merge(intv)])"
   ]
  },
  {
   "cell_type": "markdown",
   "metadata": {},
   "source": [
    "Now let's analyze the logic of this program(pics from https://zxi.mytechroad.com/blog/geometry/leetcode-56-merge-intervals/). \n",
    "![Logic of Program](http://zxi.mytechroad.com/blog/wp-content/uploads/2017/10/56-ep85-1.png)\n",
    "First, we sort all intervals based on their first number. i.e. [[1,3], [2,6], [8,10], [15,18]] were sorted based on 1, 2, 8 ,15 first number of each interval. This is to make step 2 of comparsion easier. \n",
    "\n",
    "Second, we compared the start number of the second interval with the end number of the first interval. If the start of current interval is smaller than the end of last interval, that means there's some overlap between the two intervals and we merge them. However, if there is no overlap and the start of current interval is greater than the end of previous interval, we just append the two intervals.\n",
    "\n",
    "In the figure we compare [2, 6] with [1, 3]. Obviously, 2 < 3. So there is an overlap and then we merge them to [1, 6]."
   ]
  },
  {
   "cell_type": "markdown",
   "metadata": {},
   "source": [
    "When it comes to the algorithm, before we write down a Solution class, we actually design a Interval class with \"__init__\" function. Now the question is why we need this. \n",
    "\n",
    "Constructors are generally used for instantiating an object. The task of constructors is to initialize(assign values) to the data members of the class when an object of class is created. In Python the __init__() method is called the constructor and is always called when an object is created.\n",
    "\n",
    "Syntax of constructor declaration :\n",
    "\n",
    "def __init__(self):\n",
    "    # body of the constructor\n",
    "    \n",
    "For example: "
   ]
  },
  {
   "cell_type": "code",
   "execution_count": 12,
   "metadata": {},
   "outputs": [
    {
     "name": "stdout",
     "output_type": "stream",
     "text": [
      "First number = 1000\n",
      "Second number = 2000\n",
      "Addition of two numbers = 3000\n"
     ]
    }
   ],
   "source": [
    "class Addition: \n",
    "    first = 0\n",
    "    second = 0\n",
    "    answer = 0\n",
    "      \n",
    "    # parameterized constructor \n",
    "    def __init__(self, f, s): \n",
    "        self.first = f \n",
    "        self.second = s \n",
    "      \n",
    "    def display(self): \n",
    "        print(\"First number = \" + str(self.first)) \n",
    "        print(\"Second number = \" + str(self.second)) \n",
    "        print(\"Addition of two numbers = \" + str(self.answer)) \n",
    "  \n",
    "    def calculate(self): \n",
    "        self.answer = self.first + self.second \n",
    "  \n",
    "#creating object of the class \n",
    "#this will invoke parameterized constructor \n",
    "obj = Addition(1000, 2000) \n",
    "  \n",
    "#perform Addition \n",
    "obj.calculate() \n",
    "  \n",
    "#display result \n",
    "obj.display() "
   ]
  },
  {
   "cell_type": "markdown",
   "metadata": {},
   "source": [
    "The advantage of __init__ is we don't have to list a long range of different objects, we can actually call this \n",
    "function by giving different values to it. For example, we try to define a class with a function on cars' technical\n",
    "specofocations. However, each car's structure is different. if we have 20 cars, then we will have 20 objects.\n",
    "\n",
    "For each object, you will have to set some values. For example:"
   ]
  },
  {
   "cell_type": "code",
   "execution_count": 22,
   "metadata": {},
   "outputs": [
    {
     "name": "stdout",
     "output_type": "stream",
     "text": [
      "20\n",
      "large\n"
     ]
    }
   ],
   "source": [
    "ford_speed=20\n",
    "hond_speed=30\n",
    "ford_engine=\"large\"\n",
    "hond_engine=\"small\"\n",
    "print(ford_speed)\n",
    "print(ford_engine)"
   ]
  },
  {
   "cell_type": "markdown",
   "metadata": {},
   "source": [
    "Now imagine you have 20 cars, then you will have t manually input these values in a very tedious way. That's where\n",
    "__init__ function comes to help. With an __ini__ function, we dont need to write down the specific values, we just\n",
    "need to set up the default variables and values. i.e."
   ]
  },
  {
   "cell_type": "code",
   "execution_count": 25,
   "metadata": {},
   "outputs": [
    {
     "name": "stdout",
     "output_type": "stream",
     "text": [
      "30\n",
      "large\n"
     ]
    }
   ],
   "source": [
    "class car:\n",
    "    def __init__(self, speed, engine):\n",
    "        self.speed=speed\n",
    "        self.engine=engine\n",
    "ford=car(20, \"large\")\n",
    "honda=car(30, 'small')\n",
    "print(honda.speed)\n",
    "print(ford.engine)"
   ]
  },
  {
   "cell_type": "markdown",
   "metadata": {},
   "source": [
    "That is we can set up the speed and engine variables and then initialize different values to it to get the results.\n",
    "Preciously you need 20 speed objects and 20 engine objects, but now we just need 2 objects.For every object you \n",
    "create,the constructor is called. If you create 20 objects, all the default values (variables) will be set.\n",
    "\n",
    "So now __init__ is just like a function that set up the initial framework with the presetting on the variables you\n",
    "need. Notice that we actually called this functon when we design the display and calculate functions (self.first...).\n",
    "\n",
    "In our programe, we have the following initialization function:"
   ]
  },
  {
   "cell_type": "code",
   "execution_count": 13,
   "metadata": {},
   "outputs": [
    {
     "name": "stdout",
     "output_type": "stream",
     "text": [
      "1\n",
      "5\n"
     ]
    }
   ],
   "source": [
    "class Interval(object):\n",
    "    def __init__(self, s=0, e=0):\n",
    "        self.start=s\n",
    "        self.end=e\n",
    "x=Interval(1,5)\n",
    "print(x.start)\n",
    "print(x.end)"
   ]
  },
  {
   "cell_type": "markdown",
   "metadata": {},
   "source": [
    "So for this function basically is defining the start and end of each interval. If we have an interval of [1, 5], \n",
    "we just set s=1, e =5, thus when pring the start and end, the setted values will show up. \n",
    "\n",
    "Another special command is:\n",
    "    \n",
    "<font color=red> for interval in sorted(intervals, key=lambda x:x.start): </font>\n",
    "\n",
    "- where we used sorted function. Syntax : sorted(iterable, key, reverse)\n",
    "    \n",
    "Iterable : sequence (list, tuple, string) or collection (dictionary, set, frozenset) or any other iterator that needs \n",
    "to be sorted.\n",
    "\n",
    "Key(optional) : A function that would server as a key or a basis of sort comparison.\n",
    "    \n",
    "Reverse(optional) : If set true, then the iterable would be sorted in reverse (descending) order, by default it is \n",
    "set as false.\n",
    "\n",
    "- Another important feature is that we use a \"lambda\" function here. \n",
    "\n",
    "A lambda function is a small anonymous function. A lambda function can take any number of arguments, but can only have one expression. For example, <font color=red> adder_lambda = lambda parameter1,parameter2: parameter1+parameter2 </font>  is the same as \n",
    "<font color=blue> def adder_regular(parameter1, parameter2): \n",
    "                      return parameter1+parameter2 </font> \n",
    "So here we actually define a lambda function that return the start of each interval and then we sort intervals based \n",
    "on that. "
   ]
  },
  {
   "cell_type": "markdown",
   "metadata": {},
   "source": [
    "- Since *merged_ins* is actually a sequence that contains many intervals, we use *merge_ins[-1]* to represent the last interval and *merge_ins[-1]* to represent the end of last interval. \n",
    "\n",
    "- Another important trick is the max. That is when there is overlaps between 2 intervals, we will find the max end then replace the previous end. \n",
    "\n",
    "<font color=red> merged_ins[-1].end = max(interval.end, merged_ins[-1].end)</font> This also helps when we have the following cases: [1, 8] & [2, 7], then obviously the first interval contains the second one, so we used the max (end) to find the maximum digit of 2 intervals. "
   ]
  }
 ],
 "metadata": {
  "kernelspec": {
   "display_name": "Python 3",
   "language": "python",
   "name": "python3"
  },
  "language_info": {
   "codemirror_mode": {
    "name": "ipython",
    "version": 3
   },
   "file_extension": ".py",
   "mimetype": "text/x-python",
   "name": "python",
   "nbconvert_exporter": "python",
   "pygments_lexer": "ipython3",
   "version": "3.7.1"
  }
 },
 "nbformat": 4,
 "nbformat_minor": 2
}
