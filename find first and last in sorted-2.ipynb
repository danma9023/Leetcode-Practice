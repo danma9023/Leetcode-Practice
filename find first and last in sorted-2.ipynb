{
 "cells": [
  {
   "cell_type": "markdown",
   "metadata": {},
   "source": [
    "# Find First and Last Position of Element in Sorted Array"
   ]
  },
  {
   "cell_type": "markdown",
   "metadata": {},
   "source": [
    "Given an array of integers nums sorted in ascending order, find the starting and ending position of a given target value.\n",
    "\n",
    "Your algorithm's runtime complexity must be in the order of O(log n).\n",
    "\n",
    "If the target is not found in the array, return [-1, -1]."
   ]
  },
  {
   "cell_type": "markdown",
   "metadata": {},
   "source": [
    "## 1. Easier and long version to understand"
   ]
  },
  {
   "cell_type": "code",
   "execution_count": 29,
   "metadata": {},
   "outputs": [
    {
     "name": "stdout",
     "output_type": "stream",
     "text": [
      "[-1, -1]\n"
     ]
    }
   ],
   "source": [
    "\n",
    "class Solution( object ):\n",
    "    def searchRange(self, nums, target):\n",
    "        left = self.lowerbound( nums, target )\n",
    "        right = self.upperbound( nums, target )\n",
    "\n",
    "        if left==right:\n",
    "            return [ -1, -1 ]\n",
    "        return [ left, right - 1 ]\n",
    "\n",
    "    def lowerbound(self, nums, target):\n",
    "        #find range [left, right)\n",
    "        left, right = 0, len(nums)\n",
    "        while left <right:\n",
    "            mid= (left+right)//2\n",
    "            if nums[mid] < target: left=mid+1\n",
    "            else: right=mid\n",
    "        return left\n",
    "\n",
    "    def upperbound(self, nums, target):\n",
    "        #find range [left, right)\n",
    "        left, right = 0, len(nums)\n",
    "        while left <right:\n",
    "            mid= (left+right)//2\n",
    "            if nums[mid] <= target: left=mid+1\n",
    "            else: right=mid\n",
    "        return left\n",
    "\n",
    "\n",
    "s=Solution()\n",
    "print(s.searchRange([5,5,5,5,5,5,5,5,5,5], 25))"
   ]
  },
  {
   "cell_type": "markdown",
   "metadata": {},
   "source": [
    "The logics for upperbound follows as below: first, find the median of the sequence. Notice that when calculating median, we use \"//\".\n",
    "\n",
    "This is called floor division, which returns the intergral part of the quotient. e.g. 5//2=2\n",
    "Second, compared the median and the target number. If the median is smaller than the target, then we narrow the scope by cuttinh off the left half of the sequence. If the median is target, then we cut off the right phalf of the sequence. \n",
    "\n",
    "For example, nums, target=[2,7,7,8,8,15], 8. Then previously left=0 and right=6, now we find the mid=3 and nums[3]=8=target, then we cut the right half and narrow to 0 to 3. Then we repeat this process. The reason that left = mid + 1 is since we know that nums[mid] is not target, and nums are in ascending order. We then move to the right by increasing one unit."
   ]
  },
  {
   "cell_type": "markdown",
   "metadata": {},
   "source": [
    "The logic here for upperbound is the same as above, except that now when num[mid] equals to the target. \n",
    "We cut the left half of the sequence. Again the sequence is in ascedning order and we try to find the last postion of\n",
    "the target. Thus we cut left half and moves to the right (cut right and moves to the left in lowerbound case). \n",
    "The last position we find will always be one unit greater than the real last postion. Mainly because we use \"len\"\n",
    "to calcuate the median."
   ]
  },
  {
   "cell_type": "markdown",
   "metadata": {},
   "source": [
    "## 2. Harder and shorter version to understand"
   ]
  },
  {
   "cell_type": "code",
   "execution_count": 1,
   "metadata": {},
   "outputs": [
    {
     "name": "stdout",
     "output_type": "stream",
     "text": [
      "[3, 4]\n"
     ]
    }
   ],
   "source": [
    "class Solution(object):\n",
    "    def searchRange(self, nums, target):\n",
    "        n=len (nums)\n",
    "        left, right =-1, -1\n",
    "        l, r = 0, n-1\n",
    "        while l < r:\n",
    "            m=(l+r)//2\n",
    "            if nums[m]<target:\n",
    "                l=m+1\n",
    "            else: r=m\n",
    "        if nums[l] !=target: return [-1, -1]\n",
    "        left=l\n",
    "        l, r=left, n-1\n",
    "        while l < r:\n",
    "            m=(l+r)//2+1  #this is super smart and important\n",
    "            if nums[m]==target: l=m\n",
    "            else: r =m-1\n",
    "        right = l\n",
    "        return [left, right]\n",
    "\n",
    "s=Solution()\n",
    "print(s.searchRange([2,7,7,8,8,10], 8))"
   ]
  },
  {
   "cell_type": "markdown",
   "metadata": {},
   "source": [
    "First, left and right are give values of 0 and \"len\"-1. Again for the following part\n",
    "\n",
    "        while l < r:\n",
    "            m=(l+r)//2\n",
    "            if nums[m]<target:\n",
    "                l=m+1\n",
    "            else: r=m\n",
    "            \n",
    "we still find the median and then if median=target we cut the right half to find the first appreance of the target. \n",
    "Moving on to next \"while\" loop: for this loop, we first give l, r=left, n-1. That is we now constraint ourself betweenthe first position of target and the last number in the sequence. Then we start the same searching kind of. If equal,\n",
    "\n",
    "while l < r:\n",
    "            m=(l+r)//2+1  #this is super smart and important\n",
    "            if nums[m]==target: l=m\n",
    "            else: r =m-1\n",
    "        right = l\n",
    "        \n",
    "we cut the left half and if not we cut the right half. We give median index m an extra 1 and then we subtract it\n",
    "(r=m-1) to save running time?"
   ]
  },
  {
   "cell_type": "markdown",
   "metadata": {},
   "source": [
    "## 3. sing the built-in bisect package"
   ]
  },
  {
   "cell_type": "code",
   "execution_count": 2,
   "metadata": {},
   "outputs": [
    {
     "name": "stdout",
     "output_type": "stream",
     "text": [
      "[-1, -1]\n"
     ]
    }
   ],
   "source": [
    "import bisect\n",
    "class Solution(object):\n",
    "    def searchRange(self, nums, target):\n",
    "\n",
    "        left =bisect.bisect_left(nums, target)\n",
    "        right = bisect.bisect_right(nums, target)\n",
    "\n",
    "        if left==right: return [-1, -1]\n",
    "        return [left, right -1]\n",
    "\n",
    "s=Solution()\n",
    "print(s.searchRange([5,5,5,5,5,5,5,5,5,5], 25))"
   ]
  },
  {
   "cell_type": "markdown",
   "metadata": {},
   "source": [
    "This is the shortest way to do this problem. That is we use the built bisect function. \n",
    "bisect.bisect_right(list, num, beg, end) :- This function returns the position in the sorted list, \n",
    "where the number passed in argument can be placed so as to maintain the resultant list in sorted order. \n",
    "\n",
    "If the element is already present in the list, the right most position where element has to be \n",
    "inserted is returned. This function takes 4 arguments, list which has to be worked with, \n",
    "number to insert, starting position in list to consider, ending position which has to be considered."
   ]
  }
 ],
 "metadata": {
  "kernelspec": {
   "display_name": "Python 3",
   "language": "python",
   "name": "python3"
  },
  "language_info": {
   "codemirror_mode": {
    "name": "ipython",
    "version": 3
   },
   "file_extension": ".py",
   "mimetype": "text/x-python",
   "name": "python",
   "nbconvert_exporter": "python",
   "pygments_lexer": "ipython3",
   "version": "3.7.1"
  }
 },
 "nbformat": 4,
 "nbformat_minor": 2
}
