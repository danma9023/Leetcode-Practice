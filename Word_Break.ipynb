{
  "nbformat": 4,
  "nbformat_minor": 0,
  "metadata": {
    "colab": {
      "name": "Word Break.ipynb",
      "version": "0.3.2",
      "provenance": [],
      "toc_visible": true,
      "include_colab_link": true
    },
    "kernelspec": {
      "name": "python3",
      "display_name": "Python 3"
    }
  },
  "cells": [
    {
      "cell_type": "markdown",
      "metadata": {
        "id": "view-in-github",
        "colab_type": "text"
      },
      "source": [
        "<a href=\"https://colab.research.google.com/github/danma9023/Leetcode-Practice/blob/master/Word_Break.ipynb\" target=\"_parent\"><img src=\"https://colab.research.google.com/assets/colab-badge.svg\" alt=\"Open In Colab\"/></a>"
      ]
    },
    {
      "metadata": {
        "id": "p3SpQ4PCcISq",
        "colab_type": "text"
      },
      "cell_type": "markdown",
      "source": [
        "#Word Break\n",
        "Given a non-empty string s and a dictionary wordDict containing a list of non-empty words, determine if s can be segmented into a space-separated sequence of one or more dictionary words.\n",
        "\n",
        "Note:\n",
        "\n",
        "- The same word in the dictionary may be reused multiple times in the segmentation.\n",
        "- You may assume the dictionary does not contain duplicate words.\n",
        "\n",
        "\n",
        "**Example 1**:\n",
        "\n",
        "**Input**: s = \"leetcode\", wordDict = [\"leet\", \"code\"]\n",
        "\n",
        "**Output**: true\n",
        "\n",
        "Explanation: Return true because \"leetcode\" can be segmented as \"leet code\".\n",
        "\n",
        "**Example 2**:\n",
        "\n",
        "**Input**: s = \"applepenapple\", wordDict = [\"apple\", \"pen\"]\n",
        "\n",
        "**Output**: true\n",
        "\n",
        "Explanation: Return true because \"applepenapple\" can be segmented as \"apple pen apple\". Note that you are allowed to reuse a dictionary word.\n",
        "\n",
        "**Example 3**:\n",
        "\n",
        "**Input**: s = \"catsandog\", wordDict = [\"cats\", \"dog\", \"sand\", \"and\", \"cat\"]\n",
        "\n",
        "**Output**: false"
      ]
    },
    {
      "metadata": {
        "id": "ByMXSP5S2h8y",
        "colab_type": "text"
      },
      "cell_type": "markdown",
      "source": [
        "We used 2 different methods here to solve this problem but their logics are essentially the same. \n",
        "##Method 1 \n",
        "\n",
        "The basic idea here is to break the words into different segments. Then we compare the sub-segments to the word dictionary, if we find the same word compoents, then we remember the cut-off line/posotion where we break the words as \"True\" and then we proceed and repeat the above steps. \n",
        "\n",
        "The break-down process looks like below: \n",
        "\n",
        "![break-down](http://zxi.mytechroad.com/blog/wp-content/uploads/2017/09/139.png)\n",
        "\n",
        "Consider the word <font color='red'> \"word\"</font> and <font color='blue'> word dict=['wo', 'rd']</font>. \n",
        "- Frist, we generate a set of statements (True/False) to help us judge whether we can break down the \"word\".\n",
        "\n",
        " - E.g. we first generate a set =<font color='blue'> *[True, False, False, False, False]* </font>. The reason that we want to make the first component as 'True' is becasue that we have to start the second step as loop.\n",
        " \n",
        " -Second, we start to decompose the words just like the graph shown above: try to look for different combination of the sub-words.\n",
        "  -  E.g.  <div style=\"text-align: right\"> **Loop 1**: <font color='red'> i=1, k=0 </font>(recall that range(1) doesn't give the last number in range). <font color='red'>dp(0)=True but s[0 : 1] ='w' </font>. apparently this is **NOT** in the word dict. </div>\n",
        "  \n",
        "       <div style=\"text-align: right\"> **Loop 2**: <font color='red'> i=2, k=0 </font>(recall that range(1) doesn't give the last number in range). <font color='red'>dp(0)=True but s[0 : 2] ='wo' </font>. apparently this is **IN** the word dict. So <font color='blue'>dp[2]=True.</font> An very important hidden message here is that we find the first right word-segment here, that is if the \"word\" is decomposed into 'wo', 'rd' in the word dict, then next time when we try to extract the third and the last component 'rd', we can use the condition: **<font color='blue'>dp[2]=True.</font>**</div> \n",
        "         <div style=\"text-align: right\"> **Loop 3**: ... </div>\n",
        "         <div style=\"text-align: right\"> **Loop 4**: ... </div>\n",
        "        <div style=\"text-align: right\"> **Loop N**: <font color='red'> i=4, k=2 </font>(recall that range(1) doesn't give the last number in range). <font color='red'>dp(2)=True but s[2 : 4] ='wo' </font>. apparently this is **IN** the word dict. So <font color='blue'>dp[2]=True.</font>  The point there is that we resued the the condition: **<font color='blue'>dp[2]=True.</font>** in loop 2. That is once we break down a word and find the first several compoents before that break-down point works, then we recognized that this we can also break down the word vy extracting the subsequent components after that position. We call that break-down point 'decomposeable'. however, for example, in loop 1, we find that position is not breakable, so next time we will not touch that position any more.</div>\n",
        "- Last, when we finish step 1 and 2, we will return the last components of the updated **<font color='red'> dp set</font>**. Recall that the subsequent successful break-downs are based on the previous sucessful break-downs, for instance, **Loop N is based on loop 2**. Thus, if the last component in  **<font color='red'> dp set</font>** is  <font color='red'><b>\"True\"</b> </font >, then we must have sucessful break downs before the last one, that means this word dict works for the string we have.  However, if the last component is <font color='blue'><b>\"False\"</b></font>, then even though we have succesful break-downs prviously, but we failed the last one, so we still fail the word dict. \n",
        "                \n",
        "  \n",
        "\n"
      ]
    },
    {
      "metadata": {
        "id": "Z5Y6HIZFnveX",
        "colab_type": "code",
        "colab": {
          "base_uri": "https://localhost:8080/",
          "height": 126
        },
        "outputId": "9a22f1bf-8d02-4924-9d8c-e9a44915368b"
      },
      "cell_type": "code",
      "source": [
        "class Solution(object):\n",
        "  def WordBreak(self, s, wordDict):\n",
        "    print(s)\n",
        "    print(wordDict)\n",
        "    dp=[False]*(len(s)+1)\n",
        "    #make (len(s)+1) copies of the components in the []\n",
        "    dp[0]=True\n",
        "    print(dp)\n",
        "    for i in range(1, len(s)+1):\n",
        "      for k in range(i):\n",
        "        if dp[k] and s[k:i] in wordDict:\n",
        "          dp[i]=True\n",
        "          print(dp)\n",
        "    return dp.pop()\n",
        "  # Pops and removes the last element from the list\n",
        "  # thus gives the last component\n",
        "  \n",
        "sl=Solution()\n",
        "s, wordDict='word', ['wo', 'rd']\n",
        "print(sl.WordBreak(s, wordDict))"
      ],
      "execution_count": 51,
      "outputs": [
        {
          "output_type": "stream",
          "text": [
            "word\n",
            "['wo', 'rd']\n",
            "[True, False, False, False, False]\n",
            "[True, False, True, False, False]\n",
            "[True, False, True, False, True]\n",
            "True\n"
          ],
          "name": "stdout"
        }
      ]
    },
    {
      "metadata": {
        "id": "p-zT4K9uAD83",
        "colab_type": "text"
      },
      "cell_type": "markdown",
      "source": [
        "## Method 2\n",
        "\n",
        "This method is essentially the same as the first one with minor modifications. \n",
        "\n",
        "Here we first ged rid of the repeated components in the word dict, then we rank the length of each sub-word components. Then we used the length of the sub-word components to break down the word. \n",
        "\n",
        "Note here \n",
        "<div style=\"text-align: right\">  <font color='blue'>if not dp [ i ] and i-l>=0 </font></div>\n",
        "\n",
        "we always want to start with index 1 not index 0, because i is always a sub set of l ( k is always a sub set of i in **Method 1**). That is also why we have \n",
        "<div style=\"text-align: right\">  <font color='blue'> i-l>=0 (for i in range(1, len(s)+1):\n",
        "      for k in range(i): in **Method 1**) </font></div>\n",
        "      \n",
        "Both **Method 1** and **Method 2** use the bigger number i as the index of dp, because i is the end point of the sub-word component and (i - l)/k is the starting point.  "
      ]
    },
    {
      "metadata": {
        "id": "7ksxyc2Rxh1l",
        "colab_type": "code",
        "colab": {
          "base_uri": "https://localhost:8080/",
          "height": 254
        },
        "outputId": "7f77089d-409e-45a0-a8ea-f1c035c53d6c"
      },
      "cell_type": "code",
      "source": [
        "class Solution(object):\n",
        "  def WordBreak(self, s, wordDict):\n",
        "    words=set(wordDict) #get rid of the repeated components inside the the dictionary\n",
        "    lengths=sorted({len(w) for w in words}) #rank the length of each component in the dictionary\n",
        "    \n",
        "    print(words)\n",
        "    print(lengths)\n",
        "    dp=[False]*(len(s)+1)\n",
        "    dp[0]=True\n",
        "    \n",
        "    for i in range(1, len(s)+1):\n",
        "      for l in lengths:\n",
        "        if not dp[i] and i-l>=0:\n",
        "          dp[i]=(dp[i-l] and s[i-l:i] in words)\n",
        "          print(dp)\n",
        "    return dp[-1]\n",
        "  #return the last component of dp\n",
        "  \n",
        "sl=Solution()\n",
        "s, wordDict='word', ['wo', 'rd', 'r', '']\n",
        "print(sl.WordBreak(s, wordDict))"
      ],
      "execution_count": 56,
      "outputs": [
        {
          "output_type": "stream",
          "text": [
            "{'r', 'rd', '', 'wo'}\n",
            "[0, 1, 2]\n",
            "[True, False, False, False, False]\n",
            "[True, False, False, False, False]\n",
            "[True, False, False, False, False]\n",
            "[True, False, False, False, False]\n",
            "[True, False, True, False, False]\n",
            "[True, False, True, False, False]\n",
            "[True, False, True, True, False]\n",
            "[True, False, True, True, False]\n",
            "[True, False, True, True, False]\n",
            "[True, False, True, True, True]\n",
            "True\n"
          ],
          "name": "stdout"
        }
      ]
    },
    {
      "metadata": {
        "id": "SOD4Jp1X6oEu",
        "colab_type": "code",
        "colab": {
          "base_uri": "https://localhost:8080/",
          "height": 35
        },
        "outputId": "9c6dc151-53a5-4622-cbfe-ee516920efd6"
      },
      "cell_type": "code",
      "source": [
        ""
      ],
      "execution_count": 52,
      "outputs": [
        {
          "output_type": "stream",
          "text": [
            "0\n"
          ],
          "name": "stdout"
        }
      ]
    }
  ]
}