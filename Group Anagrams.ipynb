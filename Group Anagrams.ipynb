{
 "cells": [
  {
   "cell_type": "markdown",
   "metadata": {},
   "source": [
    "## Group Anagrams"
   ]
  },
  {
   "cell_type": "markdown",
   "metadata": {},
   "source": [
    "Given an array of strings, group anagrams together.\n",
    "\n",
    "Example:\n",
    "\n",
    "Input: [\"eat\", \"tea\", \"tan\", \"ate\", \"nat\", \"bat\"],\n",
    "Output:\n",
    "[\n",
    "  [\"ate\",\"eat\",\"tea\"],\n",
    "  [\"nat\",\"tan\"],\n",
    "  [\"bat\"]\n",
    "]"
   ]
  },
  {
   "cell_type": "code",
   "execution_count": 3,
   "metadata": {},
   "outputs": [
    {
     "name": "stdout",
     "output_type": "stream",
     "text": [
      "{'aet': ['eat', 'tea', 'ate'], 'ant': ['tan', 'nat'], 'abt': ['bat']}\n",
      "[['eat', 'tea', 'ate'], ['tan', 'nat'], ['bat']]\n"
     ]
    }
   ],
   "source": [
    "class Solution(object):\n",
    "    def groupAnagrams(self, strs):\n",
    "        temp_dict = {}\n",
    "        for word in strs:\n",
    "            word_key = \"\".join(sorted(word))\n",
    "            if word_key not in temp_dict:\n",
    "                temp_dict[word_key]=[word]\n",
    "            else: temp_dict[word_key].append(word)\n",
    "        print(temp_dict)\n",
    "\n",
    "        result=[]\n",
    "        for values in temp_dict.values():\n",
    "            result+=[values]\n",
    "        return result\n",
    "\n",
    "s=Solution()\n",
    "print(s.groupAnagrams([\"eat\", \"tea\", \"tan\", \"ate\", \"nat\", \"bat\"]))"
   ]
  },
  {
   "cell_type": "markdown",
   "metadata": {},
   "source": [
    "The logic here is first to construct a temprary empty sequence. Then first we sort each word in the \"strs\" sequence.\n",
    "Then we store the sorted word in the temprary sequence. If we find the same sorted words, we append them togther. \n",
    "If not we create a new sorted word and repeat the process of finding the same sorted words."
   ]
  },
  {
   "cell_type": "markdown",
   "metadata": {},
   "source": [
    "string.join(iterable) he join() method is a string method and returns a string in which the elements of sequence have \n",
    "been joined by str separator.\n",
    "e.g. list1 = ['1','2','3','4']   \n",
    "s = \"-\" \n",
    "joins elements of list1 by '-' and stores in sting s \n",
    "s = s.join(list1) \n",
    "output: 1-2-3-4\n",
    "\n",
    "i.g. 2 \n",
    "s1 = 'abc'\n",
    "s2 = '123'\n",
    "\n",
    "\"\"\" Each character of s2 is concatenated to the front of s1\"\"\" \n",
    "print('s1.join(s2):', s1.join(s2))\n",
    "\n",
    "\"\"\" Each character of s1 is concatenated to the front of s2\"\"\" \n",
    "print('s2.join(s1):', s2.join(s1))\n",
    "output: \n",
    "s1.join(s2): 1abc2abc3\n",
    "s2.join(s1): a123b123c\n",
    "\n",
    "\"\".join mean letters or words merged without space"
   ]
  },
  {
   "cell_type": "markdown",
   "metadata": {},
   "source": [
    " sorted(iterable, key, reverse):\n",
    "Iterable : sequence (list, tuple, string) or collection (dictionary, set, frozenset) or any \n",
    "other iterator that needs to be sorted.\n",
    "\n",
    "Key(optional) : A function that would server as a key or a basis of sort comparison.\n",
    "    \n",
    "Reverse(optional) : If set true, then the iterable would be sorted in reverse (descending) order, \n",
    "by default it is set as false.\n",
    "i.g. \n",
    "x = ['q', 'w', 'r', 'e', 't', 'y'] \n",
    "print sorted(x)\n",
    "output: ['e', 'q', 'r', 't', 'w', 'y']\n",
    "    \n",
    "i.g. 2\n",
    "L = [\"cccc\", \"b\", \"dd\", \"aaa\"] \n",
    "print \"Normal sort :\", sorted(L)  \n",
    "print \"Sort with len :\", sorted(L, key = len) \n",
    "\n",
    "output:\n",
    "Normal sort : ['aaa', 'b', 'cccc', 'dd']\n",
    "Sort with len : ['b', 'dd', 'aaa', 'cccc']\n",
    "The length of strings will be sorted. Which means that the strings would be sorted based on their lengths \n",
    "instead"
   ]
  },
  {
   "cell_type": "markdown",
   "metadata": {},
   "source": [
    "The append() method takes a single item and adds it to the end of the list.\n",
    "i.g. \n",
    "animal = ['cat', 'dog', 'rabbit']\n",
    "\n",
    "another list of wild animals\n",
    "wild_animal = ['tiger', 'fox']\n",
    "\n",
    "adding wild_animal list to animal list\n",
    "animal.append(wild_animal)\n",
    "Notice that when we append, we either append a single string with '' or a value in a sequnece with []. That's why\n",
    "temp_dict[word_key]=[word] with []"
   ]
  }
 ],
 "metadata": {
  "kernelspec": {
   "display_name": "Python 3",
   "language": "python",
   "name": "python3"
  },
  "language_info": {
   "codemirror_mode": {
    "name": "ipython",
    "version": 3
   },
   "file_extension": ".py",
   "mimetype": "text/x-python",
   "name": "python",
   "nbconvert_exporter": "python",
   "pygments_lexer": "ipython3",
   "version": "3.7.1"
  }
 },
 "nbformat": 4,
 "nbformat_minor": 2
}
