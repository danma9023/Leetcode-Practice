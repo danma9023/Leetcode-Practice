{
  "nbformat": 4,
  "nbformat_minor": 0,
  "metadata": {
    "colab": {
      "name": "Serialize and Deserialize Binary Tree.ipynb",
      "version": "0.3.2",
      "provenance": [],
      "collapsed_sections": [],
      "include_colab_link": true
    },
    "kernelspec": {
      "name": "python3",
      "display_name": "Python 3"
    }
  },
  "cells": [
    {
      "cell_type": "markdown",
      "metadata": {
        "id": "view-in-github",
        "colab_type": "text"
      },
      "source": [
        "<a href=\"https://colab.research.google.com/github/danma9023/Leetcode-Practice/blob/master/Serialize_and_Deserialize_Binary_Tree.ipynb\" target=\"_parent\"><img src=\"https://colab.research.google.com/assets/colab-badge.svg\" alt=\"Open In Colab\"/></a>"
      ]
    },
    {
      "metadata": {
        "id": "MeqFaubSJ0gM",
        "colab_type": "text"
      },
      "cell_type": "markdown",
      "source": [
        "# Serialize and Deserialize Binary Tree"
      ]
    },
    {
      "metadata": {
        "id": "M_bSV4y6J3ir",
        "colab_type": "text"
      },
      "cell_type": "markdown",
      "source": [
        "<div style=\"text-align: justify\">Serialization is the process of converting a data structure or object into a sequence of bits so that it can be stored in a file or memory buffer, or transmitted across a network connection link to be reconstructed later in the same or another computer environment.</div>\n",
        "\n",
        "<div style=\"text-align: justify\">Design an algorithm to serialize and deserialize a binary tree. There is no restriction on how your serialization/deserialization algorithm should work. You just need to ensure that a binary tree can be serialized to a string and this string can be deserialized to the original tree structure.</div>"
      ]
    },
    {
      "metadata": {
        "id": "0UEGSJngJ3oL",
        "colab_type": "text"
      },
      "cell_type": "markdown",
      "source": [
        ""
      ]
    },
    {
      "metadata": {
        "id": "le-A39yWEe9k",
        "colab_type": "code",
        "colab": {
          "base_uri": "https://localhost:8080/",
          "height": 1381
        },
        "outputId": "ba87c543-ea20-4ac1-d065-1ebce6ac49b9"
      },
      "cell_type": "code",
      "source": [
        "import collections\n",
        "\n",
        "class Codec(object):\n",
        "\n",
        "    def serialize(self, root):\n",
        "        \"\"\"Encodes a tree to a single string.\n",
        "\n",
        "        :type root: TreeNode\n",
        "        :rtype: str\n",
        "        \"\"\"\n",
        "        vals = []\n",
        "        def preOrder(root):\n",
        "            if not root:\n",
        "                vals.append('#')\n",
        "            else:\n",
        "                vals.append(str(root.val))\n",
        "                print('tt')\n",
        "                print(vals)\n",
        "                preOrder(root.left)\n",
        "                print('left')\n",
        "                print(vals)\n",
        "                preOrder(root.right)\n",
        "                print('right')\n",
        "                print(vals)\n",
        "\n",
        "        preOrder(root)\n",
        "       \n",
        "        return ' '.join(vals)\n",
        "\n",
        "    def deserialize(self, data):\n",
        "        \"\"\"Decodes your encoded data to tree.\n",
        "\n",
        "        :type data: str\n",
        "        :rtype: TreeNode\n",
        "        \"\"\"\n",
        "        vals = collections.deque(val for val in data.split())\n",
        "        print(vals)\n",
        "        def build():\n",
        "            if vals:\n",
        "                val = vals.popleft()\n",
        "                print('tot')\n",
        "                print(val)\n",
        "\n",
        "                if val == '#':\n",
        "                    return \n",
        "                root = TreeNode(int(val))\n",
        "                root.left = build()\n",
        "                print('subleft')\n",
        "                print(val)\n",
        "                root.right = build()\n",
        "                print('subright')\n",
        "                print(val)\n",
        "                return root\n",
        "        return build()\n",
        "      \n",
        "      \n",
        "class TreeNode(object):\n",
        "    def __init__(self, x):\n",
        "        self.val = x\n",
        "        self.left = None\n",
        "        self.right = None\n",
        "a = TreeNode(1)\n",
        "b = TreeNode(2)\n",
        "c = TreeNode(3)\n",
        "d = TreeNode(4)\n",
        "e = TreeNode(5)\n",
        "\n",
        "a.left = b\n",
        "a.right = c\n",
        "c.left = d\n",
        "c.right = e\n",
        "\n",
        "codec = Codec()\n",
        "data= codec.serialize(a)\n",
        "print(data)\n",
        "root = codec.deserialize(data)\n",
        "print(str(root))\n",
        "#print(codec.serialize(root))\n",
        "\n"
      ],
      "execution_count": 135,
      "outputs": [
        {
          "output_type": "stream",
          "text": [
            "tt\n",
            "['1']\n",
            "tt\n",
            "['1', '2']\n",
            "left\n",
            "['1', '2', '#']\n",
            "right\n",
            "['1', '2', '#', '#']\n",
            "left\n",
            "['1', '2', '#', '#']\n",
            "tt\n",
            "['1', '2', '#', '#', '3']\n",
            "tt\n",
            "['1', '2', '#', '#', '3', '4']\n",
            "left\n",
            "['1', '2', '#', '#', '3', '4', '#']\n",
            "right\n",
            "['1', '2', '#', '#', '3', '4', '#', '#']\n",
            "left\n",
            "['1', '2', '#', '#', '3', '4', '#', '#']\n",
            "tt\n",
            "['1', '2', '#', '#', '3', '4', '#', '#', '5']\n",
            "left\n",
            "['1', '2', '#', '#', '3', '4', '#', '#', '5', '#']\n",
            "right\n",
            "['1', '2', '#', '#', '3', '4', '#', '#', '5', '#', '#']\n",
            "right\n",
            "['1', '2', '#', '#', '3', '4', '#', '#', '5', '#', '#']\n",
            "right\n",
            "['1', '2', '#', '#', '3', '4', '#', '#', '5', '#', '#']\n",
            "1 2 # # 3 4 # # 5 # #\n",
            "deque(['1', '2', '#', '#', '3', '4', '#', '#', '5', '#', '#'])\n",
            "tot\n",
            "1\n",
            "tot\n",
            "2\n",
            "tot\n",
            "#\n",
            "subleft\n",
            "2\n",
            "tot\n",
            "#\n",
            "subright\n",
            "2\n",
            "subleft\n",
            "1\n",
            "tot\n",
            "3\n",
            "tot\n",
            "4\n",
            "tot\n",
            "#\n",
            "subleft\n",
            "4\n",
            "tot\n",
            "#\n",
            "subright\n",
            "4\n",
            "subleft\n",
            "3\n",
            "tot\n",
            "5\n",
            "tot\n",
            "#\n",
            "subleft\n",
            "5\n",
            "tot\n",
            "#\n",
            "subright\n",
            "5\n",
            "subright\n",
            "3\n",
            "subright\n",
            "1\n",
            "<__main__.TreeNode object at 0x7f6ee4951e10>\n"
          ],
          "name": "stdout"
        }
      ]
    }
  ]
}