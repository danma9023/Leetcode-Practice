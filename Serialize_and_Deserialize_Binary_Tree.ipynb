{
  "nbformat": 4,
  "nbformat_minor": 0,
  "metadata": {
    "colab": {
      "name": "Serialize and Deserialize Binary Tree.ipynb",
      "version": "0.3.2",
      "provenance": [],
      "collapsed_sections": [],
      "toc_visible": true,
      "include_colab_link": true
    },
    "kernelspec": {
      "name": "python3",
      "display_name": "Python 3"
    }
  },
  "cells": [
    {
      "cell_type": "markdown",
      "metadata": {
        "id": "view-in-github",
        "colab_type": "text"
      },
      "source": [
        "<a href=\"https://colab.research.google.com/github/danma9023/Leetcode-Practice/blob/master/Serialize_and_Deserialize_Binary_Tree.ipynb\" target=\"_parent\"><img src=\"https://colab.research.google.com/assets/colab-badge.svg\" alt=\"Open In Colab\"/></a>"
      ]
    },
    {
      "metadata": {
        "id": "MeqFaubSJ0gM",
        "colab_type": "text"
      },
      "cell_type": "markdown",
      "source": [
        "# Serialize and Deserialize Binary Tree"
      ]
    },
    {
      "metadata": {
        "id": "M_bSV4y6J3ir",
        "colab_type": "text"
      },
      "cell_type": "markdown",
      "source": [
        "<div style=\"text-align: justify\">Serialization is the process of converting a data structure or object into a sequence of bits so that it can be stored in a file or memory buffer, or transmitted across a network connection link to be reconstructed later in the same or another computer environment.</div>\n",
        "\n",
        "<div style=\"text-align: justify\">Design an algorithm to serialize and deserialize a binary tree. There is no restriction on how your serialization/deserialization algorithm should work. You just need to ensure that a binary tree can be serialized to a string and this string can be deserialized to the original tree structure.</div>"
      ]
    },
    {
      "metadata": {
        "id": "0UEGSJngJ3oL",
        "colab_type": "text"
      },
      "cell_type": "markdown",
      "source": [
        "<b>Example</b>: \n",
        "\n",
        "You may serialize the following tree:\n",
        "\n",
        "      1\n",
        "     / \\\n",
        "    2   3\n",
        "       /  \\\n",
        "       4   5\n",
        "\n",
        "as \"[1,2,3,null,null,4,5]\"\n",
        "\n",
        "**Clarification**: The above format is the same as how LeetCode serializes a binary tree. You do not necessarily need to follow this format, so please be creative and come up with different approaches yourself.\n",
        "\n",
        "**Note**: Do not use class member/global/static variables to store states. Your serialize and deserialize algorithms should be stateless."
      ]
    },
    {
      "metadata": {
        "id": "YapqRb1h1hIG",
        "colab_type": "text"
      },
      "cell_type": "markdown",
      "source": [
        "Simply speaking, serialization means conversion of decision tree with node and root to a series of sequence. Deserialize mena the reverse process, we tranform the sequence into a decision tree."
      ]
    },
    {
      "metadata": {
        "id": "mz6CSf9l2Uiu",
        "colab_type": "text"
      },
      "cell_type": "markdown",
      "source": [
        "The basic method used here is the [Binary Tree Search model](https://www.geeksforgeeks.org/binary-search-tree-set-1-search-and-insertion/). <font color='blue'>Binary Search Tree</font>, is a node-based binary tree data structure which has the following properties:\n",
        "- The left subtree of a node contains only nodes with keys lesser than the node’s key.\n",
        "- The right subtree of a node contains only nodes with keys greater than the node’s key.\n",
        "- The left and right subtree each must also be a binary search tree.\n",
        "- There must be no duplicate nodes."
      ]
    },
    {
      "metadata": {
        "id": "b891YcSp5NFY",
        "colab_type": "text"
      },
      "cell_type": "markdown",
      "source": [
        "There exist several different ways in which we can do the [tree traversals](https://www.geeksforgeeks.org/tree-traversals-inorder-preorder-and-postorder/)([More details](https://www.cs.cmu.edu/~adamchik/15-121/lectures/Trees/trees.html)). A traversal is a process that visits all the nodes in the tree. Since a tree is a nonlinear data structure, there is no unique traversal. We will consider several traversal algorithms with we group in the following two kinds\n",
        "\n",
        "- **Depth-first traversal (DFS)**\n",
        "- **Breadth-first traversal (BFS)**\n",
        "\n",
        "There are three different types of depth-first traversals, :\n",
        "\n",
        "- **PreOrder traversal** - visit the parent first and then left and right children;\n",
        "- **InOrder traversal** - visit the left child, then the parent and the right child;\n",
        "- **PostOrder traversa**l - visit left child, then the right child and then the parent.\n",
        "\n",
        "For example, using the following graph, we have: "
      ]
    },
    {
      "metadata": {
        "id": "JPVM45ly6YXG",
        "colab_type": "text"
      },
      "cell_type": "markdown",
      "source": [
        "![BTS](https://www.geeksforgeeks.org/wp-content/uploads/2009/06/tree12.gif)"
      ]
    },
    {
      "metadata": {
        "id": "0FvindYV6ZOG",
        "colab_type": "text"
      },
      "cell_type": "markdown",
      "source": [
        "Depth First Traversals:\n",
        "\n",
        "1. Inorder (Left, Root, Right) : 4 2 5 1 3\n",
        "2. Preorder (Root, Left, Right) : 1 2 4 5 3\n",
        "3. Postorder (Left, Right, Root) : 4 5 2 3 1\n",
        "\n",
        "Breadth First or Level Order Traversal : 1 2 3 4 5"
      ]
    },
    {
      "metadata": {
        "id": "hc0ZW9q17R46",
        "colab_type": "text"
      },
      "cell_type": "markdown",
      "source": [
        "Now let's get back to this problem and use the <font color='red'><b>Pre-order</b></font> to track this tree. We need to define 2 functions here:  Serialize and Deserialize. \n",
        "\n",
        "In terms of both functions, we will use <font color='red'><b>Pre-order BTS</b></font>.  Let's look at serialize first. \n"
      ]
    },
    {
      "metadata": {
        "id": "Fz4-uwrY8HZy",
        "colab_type": "text"
      },
      "cell_type": "markdown",
      "source": [
        "\n",
        "###Serialize"
      ]
    },
    {
      "metadata": {
        "id": "8Zrwn8zw8J1a",
        "colab_type": "text"
      },
      "cell_type": "markdown",
      "source": [
        "So like mentioned **PreOrder traversal** - visit the parent first and then left and right children. Suppose we have a binary tree like the following(from HUAHUA Jiang):\n",
        "___\n",
        "![huahua](https://zxi.mytechroad.com/blog/wp-content/uploads/2017/09/297-ep59-1.png) \n",
        "___\n"
      ]
    },
    {
      "metadata": {
        "id": "u-V4L61cCGM3",
        "colab_type": "text"
      },
      "cell_type": "markdown",
      "source": [
        "We start from the root.\n",
        "- **Step 1**: If root is empty then we put a # in the sequence, if it is not empty, then we convert the root node into strings and put it into the sequence.  (root.val gives the value at the root, according to the Treenode function:  self.val = x).\n",
        "\n",
        "- **Step 2**: Next we go take the values at left node. \n",
        " - **<font color='red'>If we dont have any node here, then this left node is empty, we return a value of # to the sequence \"vals\" and we junp out this function loop and go back to previous level---the root</font>**\n",
        " - **<font color='blue'>If we have a non-empty node here, then we extract its value (2 in this case) and BOOM! now we get to another loop of keep looking for left nodes. Then we will keep continue searching until we dont have any real value, for example, in this case, we only have 2, and 2 doesn't have any left node, then we jump out of this level and go back to the level of 2 and now we do step 3 </font>**\n",
        "- **Step 3**: if we have visited all the non-empty left nodes under 2, we wen back to 2 and start the right node track. However, 2 doesn't have any right nodes, so we jump out of this loop and we are back to level of 2 (root. eft) again(**<font color='green'>now the system will rerun the loop in step 2 to the left node, but left node is empty, so we jumpt of the root.lef again back to the root 1</font>**), however, we know that 2 doesn't have any unvisited node and we will jump of this \"bigger\" loop again and back to the root \"1\". \n",
        "- **Step 4** Then we will looking for the right node : 3 and repeat step 1-3\n",
        " \n",
        "\n"
      ]
    },
    {
      "metadata": {
        "id": "gj4JDVv1ZVZC",
        "colab_type": "text"
      },
      "cell_type": "markdown",
      "source": [
        "___"
      ]
    },
    {
      "metadata": {
        "id": "kIUCMPXy8rqi",
        "colab_type": "code",
        "outputId": "7eb3a198-9b83-421a-d725-3a4e668e6764",
        "colab": {
          "base_uri": "https://localhost:8080/",
          "height": 544
        }
      },
      "cell_type": "code",
      "source": [
        "import collections\n",
        "\n",
        "class Codec(object):\n",
        "\n",
        "    def serialize(self, root):\n",
        "        \"\"\"Encodes a tree to a single string.\n",
        "\n",
        "        :type root: TreeNode\n",
        "        :rtype: str\n",
        "        \"\"\"\n",
        "        vals = []\n",
        "        def preOrder(root):\n",
        "            if not root:\n",
        "                vals.append('#')\n",
        "            else:\n",
        "                vals.append(str(root.val))\n",
        "                print('tt')\n",
        "                print(vals)\n",
        "                preOrder(root.left)\n",
        "                print('left')\n",
        "                print(vals)\n",
        "                preOrder(root.right)\n",
        "                print('right')\n",
        "                print(vals)\n",
        "\n",
        "        preOrder(root)\n",
        "       \n",
        "        return ' '.join(vals)\n",
        "      \n",
        "class TreeNode(object):\n",
        "    def __init__(self, x):\n",
        "        self.val = x\n",
        "        self.left = None\n",
        "        self.right = None\n",
        "a = TreeNode(1)\n",
        "b = TreeNode(2)\n",
        "c = TreeNode(3)\n",
        "d = TreeNode(4)\n",
        "e = TreeNode(5)\n",
        "\n",
        "a.left = b\n",
        "a.right = c\n",
        "c.left = d\n",
        "c.right = e\n",
        "\n",
        "codec = Codec()\n",
        "data= codec.serialize(a)\n",
        "print(data)"
      ],
      "execution_count": 0,
      "outputs": [
        {
          "output_type": "stream",
          "text": [
            "tt\n",
            "['1']\n",
            "tt\n",
            "['1', '2']\n",
            "left\n",
            "['1', '2', '#']\n",
            "right\n",
            "['1', '2', '#', '#']\n",
            "left\n",
            "['1', '2', '#', '#']\n",
            "tt\n",
            "['1', '2', '#', '#', '3']\n",
            "tt\n",
            "['1', '2', '#', '#', '3', '4']\n",
            "left\n",
            "['1', '2', '#', '#', '3', '4', '#']\n",
            "right\n",
            "['1', '2', '#', '#', '3', '4', '#', '#']\n",
            "left\n",
            "['1', '2', '#', '#', '3', '4', '#', '#']\n",
            "tt\n",
            "['1', '2', '#', '#', '3', '4', '#', '#', '5']\n",
            "left\n",
            "['1', '2', '#', '#', '3', '4', '#', '#', '5', '#']\n",
            "right\n",
            "['1', '2', '#', '#', '3', '4', '#', '#', '5', '#', '#']\n",
            "right\n",
            "['1', '2', '#', '#', '3', '4', '#', '#', '5', '#', '#']\n",
            "right\n",
            "['1', '2', '#', '#', '3', '4', '#', '#', '5', '#', '#']\n",
            "1 2 # # 3 4 # # 5 # #\n"
          ],
          "name": "stdout"
        }
      ]
    },
    {
      "metadata": {
        "id": "pR8hzA5EZUKy",
        "colab_type": "text"
      },
      "cell_type": "markdown",
      "source": [
        "___"
      ]
    },
    {
      "metadata": {
        "id": "o3ykjq9jWF0p",
        "colab_type": "text"
      },
      "cell_type": "markdown",
      "source": [
        "###Deserialize\n",
        "The logic used here is very similar to the one used in **serialize**.  we start from the root again.\n",
        "- **Step 1**: If root is empty then we put a # in the sequence, if it is not empty, then we convert the root value into a TreeNode using a <font color='green'> TreeNode function </font>and we return the root  (root here is a iterable and everytimr we finish a loop we will replace its value and return the root, which is actually the node at different levels)\n",
        "- **Step 2**: Next we go convert the values at left node (2) to a node. \n",
        " - **<font color='blue'>If we have a non-empty node here, then we convert its value (2 in this case) to a node and BOOM! now we get to another loop of keep looking for left nodes. Then we will keep continue searching until we dont have any real value, for example, in this case, we only have 2, and 2 doesn't have any left node, then we jump out of this level and go back to the level of 2 and now we do step 3 </font>**\n",
        " - **<font color='red'>If we dont have any node here, then this left node is empty, we return a value of # to the tree node and return the previous root.</font>**\n",
        "- **Step 3**: if we have visited all the non-empty left nodes under 2, we wen back to 2 and start the right node track. However, 2 doesn't have any right nodes, so we jump out of this loop and we are back to level of 2 (root. eft) again(**<font color='green'>now the system will rerun the loop in step 2 to the left node, but left node is empty, so we jumpt of the root.lef again back to the root 1</font>**), however, we know that 2 doesn't have any unvisited node and we will jump of this \"bigger\" loop again and back to the root \"1\". \n",
        "- **Step 4** Then we will looking for the right node : 3 and repeat step 1-3\n",
        "***"
      ]
    },
    {
      "metadata": {
        "id": "GwZ3gI_mWG1A",
        "colab_type": "code",
        "colab": {}
      },
      "cell_type": "code",
      "source": [
        "\n",
        "    def deserialize(self, data):\n",
        "        \"\"\"Decodes your encoded data to tree.\n",
        "\n",
        "        :type data: str\n",
        "        :rtype: TreeNode\n",
        "        \"\"\"\n",
        "        vals = collections.deque(val for val in data.split())\n",
        "        print(vals)\n",
        "        def build():\n",
        "            if vals:\n",
        "                val = vals.popleft()\n",
        "                print('tot')\n",
        "                print(val)\n",
        "\n",
        "                if val == '#':\n",
        "                    return \n",
        "                root = TreeNode(int(val))\n",
        "                root.left = build()\n",
        "                print('subleft')\n",
        "                print(val)\n",
        "                root.right = build()\n",
        "                print('subright')\n",
        "                print(val)\n",
        "                return root\n",
        "        return build()"
      ],
      "execution_count": 0,
      "outputs": []
    },
    {
      "metadata": {
        "id": "bHUi8v45WoXi",
        "colab_type": "text"
      },
      "cell_type": "markdown",
      "source": [
        "***"
      ]
    },
    {
      "metadata": {
        "id": "aZ3507W17m7y",
        "colab_type": "text"
      },
      "cell_type": "markdown",
      "source": [
        ""
      ]
    },
    {
      "metadata": {
        "id": "le-A39yWEe9k",
        "colab_type": "code",
        "outputId": "ba87c543-ea20-4ac1-d065-1ebce6ac49b9",
        "colab": {
          "base_uri": "https://localhost:8080/",
          "height": 1381
        }
      },
      "cell_type": "code",
      "source": [
        "import collections\n",
        "\n",
        "class Codec(object):\n",
        "\n",
        "    def serialize(self, root):\n",
        "        \"\"\"Encodes a tree to a single string.\n",
        "\n",
        "        :type root: TreeNode\n",
        "        :rtype: str\n",
        "        \"\"\"\n",
        "        vals = []\n",
        "        def preOrder(root):\n",
        "            if not root:\n",
        "                vals.append('#')\n",
        "            else:\n",
        "                vals.append(str(root.val))\n",
        "                print('tt')\n",
        "                print(vals)\n",
        "                preOrder(root.left)\n",
        "                print('left')\n",
        "                print(vals)\n",
        "                preOrder(root.right)\n",
        "                print('right')\n",
        "                print(vals)\n",
        "\n",
        "        preOrder(root)\n",
        "       \n",
        "        return ' '.join(vals)\n",
        "\n",
        "    def deserialize(self, data):\n",
        "        \"\"\"Decodes your encoded data to tree.\n",
        "\n",
        "        :type data: str\n",
        "        :rtype: TreeNode\n",
        "        \"\"\"\n",
        "        vals = collections.deque(val for val in data.split())\n",
        "        print(vals)\n",
        "        def build():\n",
        "            if vals:\n",
        "                val = vals.popleft()\n",
        "                print('tot')\n",
        "                print(val)\n",
        "\n",
        "                if val == '#':\n",
        "                    return \n",
        "                root = TreeNode(int(val))\n",
        "                root.left = build()\n",
        "                print('subleft')\n",
        "                print(val)\n",
        "                root.right = build()\n",
        "                print('subright')\n",
        "                print(val)\n",
        "                return root\n",
        "        return build()\n",
        "      \n",
        "      \n",
        "class TreeNode(object):\n",
        "    def __init__(self, x):\n",
        "        self.val = x\n",
        "        self.left = None\n",
        "        self.right = None\n",
        "a = TreeNode(1)\n",
        "b = TreeNode(2)\n",
        "c = TreeNode(3)\n",
        "d = TreeNode(4)\n",
        "e = TreeNode(5)\n",
        "\n",
        "a.left = b\n",
        "a.right = c\n",
        "c.left = d\n",
        "c.right = e\n",
        "\n",
        "codec = Codec()\n",
        "data= codec.serialize(a)\n",
        "print(data)\n",
        "root = codec.deserialize(data)\n",
        "print(str(root))\n",
        "print(codec.serialize(root))\n",
        "\n"
      ],
      "execution_count": 0,
      "outputs": [
        {
          "output_type": "stream",
          "text": [
            "tt\n",
            "['1']\n",
            "tt\n",
            "['1', '2']\n",
            "left\n",
            "['1', '2', '#']\n",
            "right\n",
            "['1', '2', '#', '#']\n",
            "left\n",
            "['1', '2', '#', '#']\n",
            "tt\n",
            "['1', '2', '#', '#', '3']\n",
            "tt\n",
            "['1', '2', '#', '#', '3', '4']\n",
            "left\n",
            "['1', '2', '#', '#', '3', '4', '#']\n",
            "right\n",
            "['1', '2', '#', '#', '3', '4', '#', '#']\n",
            "left\n",
            "['1', '2', '#', '#', '3', '4', '#', '#']\n",
            "tt\n",
            "['1', '2', '#', '#', '3', '4', '#', '#', '5']\n",
            "left\n",
            "['1', '2', '#', '#', '3', '4', '#', '#', '5', '#']\n",
            "right\n",
            "['1', '2', '#', '#', '3', '4', '#', '#', '5', '#', '#']\n",
            "right\n",
            "['1', '2', '#', '#', '3', '4', '#', '#', '5', '#', '#']\n",
            "right\n",
            "['1', '2', '#', '#', '3', '4', '#', '#', '5', '#', '#']\n",
            "1 2 # # 3 4 # # 5 # #\n",
            "deque(['1', '2', '#', '#', '3', '4', '#', '#', '5', '#', '#'])\n",
            "tot\n",
            "1\n",
            "tot\n",
            "2\n",
            "tot\n",
            "#\n",
            "subleft\n",
            "2\n",
            "tot\n",
            "#\n",
            "subright\n",
            "2\n",
            "subleft\n",
            "1\n",
            "tot\n",
            "3\n",
            "tot\n",
            "4\n",
            "tot\n",
            "#\n",
            "subleft\n",
            "4\n",
            "tot\n",
            "#\n",
            "subright\n",
            "4\n",
            "subleft\n",
            "3\n",
            "tot\n",
            "5\n",
            "tot\n",
            "#\n",
            "subleft\n",
            "5\n",
            "tot\n",
            "#\n",
            "subright\n",
            "5\n",
            "subright\n",
            "3\n",
            "subright\n",
            "1\n",
            "<__main__.TreeNode object at 0x7f6ee4951e10>\n"
          ],
          "name": "stdout"
        }
      ]
    }
  ]
}